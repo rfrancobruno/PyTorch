{
  "nbformat": 4,
  "nbformat_minor": 0,
  "metadata": {
    "kernelspec": {
      "display_name": "Python 3",
      "name": "python3"
    },
    "language_info": {
      "codemirror_mode": {
        "name": "ipython",
        "version": 3
      },
      "file_extension": ".py",
      "mimetype": "text/x-python",
      "name": "python",
      "nbconvert_exporter": "python",
      "pygments_lexer": "ipython3",
      "version": "3.6.6"
    },
    "colab": {
      "provenance": [],
      "gpuType": "T4",
      "toc_visible": true,
      "include_colab_link": true
    },
    "accelerator": "GPU"
  },
  "cells": [
    {
      "cell_type": "markdown",
      "metadata": {
        "id": "view-in-github",
        "colab_type": "text"
      },
      "source": [
        "<a href=\"https://colab.research.google.com/github/rfrancobruno/PyTorch/blob/main/Foa_PytorchTrainCIFAR10_2023_2.ipynb\" target=\"_parent\"><img src=\"https://colab.research.google.com/assets/colab-badge.svg\" alt=\"Open In Colab\"/></a>"
      ]
    },
    {
      "cell_type": "code",
      "metadata": {
        "id": "6nS6dEshJodk"
      },
      "source": [
        "%matplotlib inline"
      ],
      "execution_count": 1,
      "outputs": []
    },
    {
      "cell_type": "markdown",
      "metadata": {
        "id": "JnxwLVOwJods"
      },
      "source": [
        "Exercício:\n",
        "-----------\n",
        "Treinamento de modelos de Deep Learning utilizando a PyTorch\n",
        "Equipe 1:\n",
        "---------\n",
        "João Pedro de Rossi Tambasco Calanzas - 202010405 /\n",
        "Matheus da Silva de Paula - 202010410 /\n",
        "Rodrigo Franco Bruno - 202010417 /\n",
        "Uriel Souza Moutinho - 202010651\n",
        "\n",
        "\n",
        "Treinando um classificador:\n",
        "Sobre os dados\n",
        "----------------\n",
        "\n",
        "Em geral, quando você precisa lidar com dados de imagem, texto, áudio ou vídeo,\n",
        "você pode usar pacotes python padrão que carregam dados em uma matriz numpy.\n",
        "Então você pode converter esse array em uma Tensor.\n",
        "\n",
        "- Para imagens, pacotes como Pillow, OpenCV são úteis\n",
        "- Para áudio, pacotes como scipy\n",
        "- Para texto, carregamento bruto baseado em Python ou Cython ou NLTK e\n",
        "\n",
        "\n",
        "Especificamente para a visão computacional, criamos um pacote chamado\n",
        " torchvision, que possui carregadores de dados para conjuntos de dados comuns, como Imagenet, CIFAR10, MNIST, etc. e transformadores de dados para imagens, a saber, `` torchvision.datasets`` e `` torch.utils.data.DataLoader``.\n",
        "\n",
        "Isso oferece uma enorme conveniência e evita a gravação de código padrão.\n",
        "\n",
        "Para este tutorial, usaremos o conjunto de dados CIFAR10.\n",
        "Possui as classes: \"avião\", \"automóvel\", \"pássaro\", \"gato\", \"cervo\",\n",
        "\"Cachorro\", \"sapo\", \"cavalo\", \"navio\", \"caminhão\". As imagens no CIFAR-10 são de\n",
        "tamanho 3x32x32, ou seja, imagens em cores de 3 canais com tamanho de 32x32 pixels.\n",
        "\n",
        "\n",
        ".. figure:: /_static/img/cifar10.png\n",
        "   :alt: cifar10\n",
        "\n",
        "   cifar10\n",
        "\n",
        "\n",
        "Treinando um classificador de imagens:\n",
        "----------------------------\n",
        "\n",
        "Realizaremos as seguintes etapas em ordem:\n",
        "\n",
        "1. Carregue e normalize os conjuntos de dados de treinamento e teste do CIFAR10 usando\n",
        "    `` visão da tocha``\n",
        "2. Definir uma rede neural de convolução\n",
        "3. Defina uma função de perda\n",
        "4. Treine a rede nos dados de treinamento\n",
        "5. Teste a rede nos dados de teste\n",
        "\n",
        "1. Carregamento e normalização do CIFAR10\n",
        "^^^^^^^^^^^^^^^^^^^^^^^^^^^^^^^^^^^^\n",
        "\n",
        "Usando `` torchvision``, é extremamente fácil carregar o CIFAR10."
      ]
    },
    {
      "cell_type": "code",
      "metadata": {
        "id": "3G1R30QRJodt"
      },
      "source": [
        "import torch\n",
        "import torchvision\n",
        "import torchvision.transforms as transforms"
      ],
      "execution_count": 2,
      "outputs": []
    },
    {
      "cell_type": "markdown",
      "metadata": {
        "id": "kSE1cD4pJodx"
      },
      "source": [
        "A saída dos conjuntos de dados da visão da tocha são imagens PILImage do intervalo [0, 1]. Nós os transformamos em tensores de faixa normalizada [-1, 1]."
      ]
    },
    {
      "cell_type": "code",
      "metadata": {
        "id": "4EMTdFXJJody",
        "colab": {
          "base_uri": "https://localhost:8080/"
        },
        "outputId": "c363b922-433e-4296-b6b3-be4b68304126"
      },
      "source": [
        "transform = transforms.Compose(\n",
        "    [transforms.ToTensor(),\n",
        "     transforms.Normalize((0.5, 0.5, 0.5), (0.5, 0.5, 0.5))])\n",
        "\n",
        "trainset = torchvision.datasets.CIFAR10(root='./data', train=True,\n",
        "                                        download=True, transform=transform)\n",
        "trainloader = torch.utils.data.DataLoader(trainset, batch_size=4,\n",
        "                                          shuffle=True, num_workers=2)\n",
        "\n",
        "testset = torchvision.datasets.CIFAR10(root='./data', train=False,\n",
        "                                       download=True, transform=transform)\n",
        "testloader = torch.utils.data.DataLoader(testset, batch_size=4,\n",
        "                                         shuffle=True, num_workers=2)\n",
        "\n",
        "classes = ('plane', 'car', 'bird', 'cat',\n",
        "           'deer', 'dog', 'frog', 'horse', 'ship', 'truck')"
      ],
      "execution_count": 3,
      "outputs": [
        {
          "output_type": "stream",
          "name": "stdout",
          "text": [
            "Downloading https://www.cs.toronto.edu/~kriz/cifar-10-python.tar.gz to ./data/cifar-10-python.tar.gz\n"
          ]
        },
        {
          "output_type": "stream",
          "name": "stderr",
          "text": [
            "100%|██████████| 170498071/170498071 [00:01<00:00, 99478201.98it/s]\n"
          ]
        },
        {
          "output_type": "stream",
          "name": "stdout",
          "text": [
            "Extracting ./data/cifar-10-python.tar.gz to ./data\n",
            "Files already downloaded and verified\n"
          ]
        }
      ]
    },
    {
      "cell_type": "markdown",
      "metadata": {
        "id": "f-5_36pOJod1"
      },
      "source": [
        "Vamos ver algumas imagens só por diversão"
      ]
    },
    {
      "cell_type": "code",
      "metadata": {
        "id": "aVRXUgvAJod2",
        "colab": {
          "base_uri": "https://localhost:8080/",
          "height": 211
        },
        "outputId": "f44f770a-5103-477f-d491-67ffa8a84153"
      },
      "source": [
        "import matplotlib.pyplot as plt\n",
        "import numpy as np\n",
        "\n",
        "# functions to show an image\n",
        "\n",
        "\n",
        "def imshow(img):\n",
        "    img = img / 2 + 0.5     # unnormalize\n",
        "    npimg = img.numpy()\n",
        "    plt.imshow(np.transpose(npimg, (1, 2, 0)))\n",
        "\n",
        "\n",
        "# get some random training images\n",
        "dataiter = iter(trainloader)\n",
        "images, labels = next(dataiter)\n",
        "\n",
        "# show images\n",
        "imshow(torchvision.utils.make_grid(images))\n",
        "# print labels\n",
        "print(' '.join('%5s' % classes[labels[j]] for j in range(4)))"
      ],
      "execution_count": 4,
      "outputs": [
        {
          "output_type": "stream",
          "name": "stdout",
          "text": [
            " frog  bird truck truck\n"
          ]
        },
        {
          "output_type": "display_data",
          "data": {
            "text/plain": [
              "<Figure size 640x480 with 1 Axes>"
            ],
            "image/png": "[encoded data removed]"
          },
          "metadata": {}
        }
      ]
    },
    {
      "cell_type": "markdown",
      "metadata": {
        "id": "4W_1upN5Jod4"
      },
      "source": [
        "2. Definir uma rede neural de convolução ^^^^^^^^^^^^^^^^^^^^^^^^^^^^^^^^^^^^^^^^^^^^^^^^^^^^^^^\n",
        "Copie a rede neural antes e modifique-a para capturar imagens de 3 canais (em vez de imagens de 1 canal, conforme definido).\n",
        "\n"
      ]
    },
    {
      "cell_type": "code",
      "metadata": {
        "id": "58zEiGqWJod5"
      },
      "source": [
        "import torch.nn as nn\n",
        "import torch.nn.functional as F\n",
        "\n",
        "\n",
        "class Net(nn.Module):\n",
        "    def __init__(self):\n",
        "        super(Net, self).__init__()\n",
        "        self.conv1 = nn.Conv2d(3, 16, 3)\n",
        "        self.pool = nn.MaxPool2d(2, 2)\n",
        "        self.conv2 = nn.Conv2d(16, 16, 5)\n",
        "        #1- Mudar o número de neurônios nas camadas\n",
        "        #self.fc1 = nn.Linear(16 * 5 * 5, 120)\n",
        "        #self.fc2 = nn.Linear(120, 84)\n",
        "        #self.fc3 = nn.Linear(84, 10)\n",
        "        #Modificação Gurpo 01\n",
        "        self.fc1 = nn.Linear(16 * 5 * 5, 160)\n",
        "        self.fc2 = nn.Linear(160, 130)\n",
        "        self.fc3 = nn.Linear(130, 10)\n",
        "\n",
        "    def forward(self, x):\n",
        "        x = self.pool(F.relu(self.conv1(x)))\n",
        "        x = self.pool(F.relu(self.conv2(x)))\n",
        "        x = x.view(-1, 16 * 5 * 5)\n",
        "        #2- Mudar as funções de ativação\n",
        "        #Modificação Gurpo 01\n",
        "        #x = F.relu(self.fc1(x))\n",
        "        #x = F.relu(self.fc2(x))\n",
        "        x = F.leaky_relu(self.fc1(x))\n",
        "        x = F.leaky_relu(self.fc2(x))\n",
        "        x = self.fc3(x)\n",
        "        return x\n",
        "\n",
        "\n",
        "net = Net()"
      ],
      "execution_count": 7,
      "outputs": []
    },
    {
      "cell_type": "markdown",
      "metadata": {
        "id": "-ezBdA-7Jod8"
      },
      "source": [
        "3. Definir uma função de perda e otimizador ^^^^^^^^^^^^^^^^^^^^^^^^^^^^^^^^^^^^^^^^^^^^^^^^^^^^^^^^^\n"
      ]
    },
    {
      "cell_type": "code",
      "metadata": {
        "id": "SbnMovSoJod9"
      },
      "source": [
        "import torch.optim as optim\n",
        "\n",
        "criterion = nn.CrossEntropyLoss()\n",
        "optimizer = optim.SGD(net.parameters(), lr=0.001, momentum=0.9)"
      ],
      "execution_count": 8,
      "outputs": []
    },
    {
      "cell_type": "markdown",
      "metadata": {
        "id": "gmvsJEAGJod_"
      },
      "source": [
        "4. Train the network\n",
        "^^^^^^^^^^^^^^^^^^^^\n",
        "\n",
        "Aqui é quando os pesos começam a ser otimizados:\n",
        "\n"
      ]
    },
    {
      "cell_type": "code",
      "metadata": {
        "id": "uY3I9gqqJoeA",
        "colab": {
          "base_uri": "https://localhost:8080/"
        },
        "outputId": "c38f200b-86ab-4b30-d562-c493c71cda04"
      },
      "source": [
        "for epoch in range(5):  # loop over the dataset multiple times\n",
        "\n",
        "    running_loss = 0.0\n",
        "    for i, data in enumerate(trainloader, 0):\n",
        "        # get the inputs\n",
        "        inputs, labels = data\n",
        "\n",
        "        # zero the parameter gradients\n",
        "        optimizer.zero_grad()\n",
        "\n",
        "        # forward + backward + optimize\n",
        "        outputs = net(inputs)\n",
        "        loss = criterion(outputs, labels)\n",
        "        loss.backward()\n",
        "        optimizer.step()\n",
        "\n",
        "        # print statistics\n",
        "        running_loss += loss.item()\n",
        "        if i % 200 == 0:    # print every 2000 mini-batches\n",
        "            print('[%d, %5d] loss: %.3f' %\n",
        "                  (epoch + 1, i + 1, running_loss / 2000))\n",
        "            running_loss = 0.0\n",
        "\n",
        "print('Finished Training')"
      ],
      "execution_count": 13,
      "outputs": [
        {
          "output_type": "stream",
          "name": "stdout",
          "text": [
            "[1,     1] loss: 0.000\n",
            "[1,   201] loss: 0.084\n",
            "[1,   401] loss: 0.081\n",
            "[1,   601] loss: 0.088\n",
            "[1,   801] loss: 0.080\n",
            "[1,  1001] loss: 0.085\n",
            "[1,  1201] loss: 0.090\n",
            "[1,  1401] loss: 0.089\n",
            "[1,  1601] loss: 0.080\n",
            "[1,  1801] loss: 0.079\n",
            "[1,  2001] loss: 0.080\n",
            "[1,  2201] loss: 0.086\n",
            "[1,  2401] loss: 0.081\n",
            "[1,  2601] loss: 0.090\n",
            "[1,  2801] loss: 0.084\n",
            "[1,  3001] loss: 0.088\n",
            "[1,  3201] loss: 0.085\n",
            "[1,  3401] loss: 0.085\n",
            "[1,  3601] loss: 0.082\n",
            "[1,  3801] loss: 0.089\n",
            "[1,  4001] loss: 0.084\n",
            "[1,  4201] loss: 0.079\n",
            "[1,  4401] loss: 0.085\n",
            "[1,  4601] loss: 0.089\n",
            "[1,  4801] loss: 0.091\n",
            "[1,  5001] loss: 0.087\n",
            "[1,  5201] loss: 0.090\n",
            "[1,  5401] loss: 0.089\n",
            "[1,  5601] loss: 0.091\n",
            "[1,  5801] loss: 0.087\n",
            "[1,  6001] loss: 0.082\n",
            "[1,  6201] loss: 0.087\n",
            "[1,  6401] loss: 0.086\n",
            "[1,  6601] loss: 0.091\n",
            "[1,  6801] loss: 0.089\n",
            "[1,  7001] loss: 0.083\n",
            "[1,  7201] loss: 0.086\n",
            "[1,  7401] loss: 0.087\n",
            "[1,  7601] loss: 0.084\n",
            "[1,  7801] loss: 0.081\n",
            "[1,  8001] loss: 0.083\n",
            "[1,  8201] loss: 0.094\n",
            "[1,  8401] loss: 0.084\n",
            "[1,  8601] loss: 0.090\n",
            "[1,  8801] loss: 0.087\n",
            "[1,  9001] loss: 0.084\n",
            "[1,  9201] loss: 0.088\n",
            "[1,  9401] loss: 0.089\n",
            "[1,  9601] loss: 0.090\n",
            "[1,  9801] loss: 0.082\n",
            "[1, 10001] loss: 0.087\n",
            "[1, 10201] loss: 0.092\n",
            "[1, 10401] loss: 0.089\n",
            "[1, 10601] loss: 0.089\n",
            "[1, 10801] loss: 0.092\n",
            "[1, 11001] loss: 0.093\n",
            "[1, 11201] loss: 0.089\n",
            "[1, 11401] loss: 0.091\n",
            "[1, 11601] loss: 0.084\n",
            "[1, 11801] loss: 0.086\n",
            "[1, 12001] loss: 0.084\n",
            "[1, 12201] loss: 0.087\n",
            "[1, 12401] loss: 0.090\n",
            "[2,     1] loss: 0.000\n",
            "[2,   201] loss: 0.074\n",
            "[2,   401] loss: 0.071\n",
            "[2,   601] loss: 0.074\n",
            "[2,   801] loss: 0.080\n",
            "[2,  1001] loss: 0.081\n",
            "[2,  1201] loss: 0.080\n",
            "[2,  1401] loss: 0.084\n",
            "[2,  1601] loss: 0.079\n",
            "[2,  1801] loss: 0.078\n",
            "[2,  2001] loss: 0.077\n",
            "[2,  2201] loss: 0.075\n",
            "[2,  2401] loss: 0.074\n",
            "[2,  2601] loss: 0.082\n",
            "[2,  2801] loss: 0.077\n",
            "[2,  3001] loss: 0.083\n",
            "[2,  3201] loss: 0.084\n",
            "[2,  3401] loss: 0.078\n",
            "[2,  3601] loss: 0.081\n",
            "[2,  3801] loss: 0.076\n",
            "[2,  4001] loss: 0.083\n",
            "[2,  4201] loss: 0.079\n",
            "[2,  4401] loss: 0.082\n",
            "[2,  4601] loss: 0.080\n",
            "[2,  4801] loss: 0.082\n",
            "[2,  5001] loss: 0.081\n",
            "[2,  5201] loss: 0.075\n",
            "[2,  5401] loss: 0.078\n",
            "[2,  5601] loss: 0.080\n",
            "[2,  5801] loss: 0.077\n",
            "[2,  6001] loss: 0.089\n",
            "[2,  6201] loss: 0.082\n",
            "[2,  6401] loss: 0.079\n",
            "[2,  6601] loss: 0.086\n",
            "[2,  6801] loss: 0.080\n",
            "[2,  7001] loss: 0.081\n",
            "[2,  7201] loss: 0.079\n",
            "[2,  7401] loss: 0.083\n",
            "[2,  7601] loss: 0.080\n",
            "[2,  7801] loss: 0.079\n",
            "[2,  8001] loss: 0.076\n",
            "[2,  8201] loss: 0.080\n",
            "[2,  8401] loss: 0.082\n",
            "[2,  8601] loss: 0.086\n",
            "[2,  8801] loss: 0.082\n",
            "[2,  9001] loss: 0.078\n",
            "[2,  9201] loss: 0.084\n",
            "[2,  9401] loss: 0.083\n",
            "[2,  9601] loss: 0.080\n",
            "[2,  9801] loss: 0.090\n",
            "[2, 10001] loss: 0.088\n",
            "[2, 10201] loss: 0.081\n",
            "[2, 10401] loss: 0.078\n",
            "[2, 10601] loss: 0.089\n",
            "[2, 10801] loss: 0.083\n",
            "[2, 11001] loss: 0.080\n",
            "[2, 11201] loss: 0.092\n",
            "[2, 11401] loss: 0.074\n",
            "[2, 11601] loss: 0.081\n",
            "[2, 11801] loss: 0.081\n",
            "[2, 12001] loss: 0.076\n",
            "[2, 12201] loss: 0.092\n",
            "[2, 12401] loss: 0.085\n",
            "[3,     1] loss: 0.000\n",
            "[3,   201] loss: 0.079\n",
            "[3,   401] loss: 0.067\n",
            "[3,   601] loss: 0.075\n",
            "[3,   801] loss: 0.074\n",
            "[3,  1001] loss: 0.072\n",
            "[3,  1201] loss: 0.058\n",
            "[3,  1401] loss: 0.070\n",
            "[3,  1601] loss: 0.066\n",
            "[3,  1801] loss: 0.074\n",
            "[3,  2001] loss: 0.074\n",
            "[3,  2201] loss: 0.072\n",
            "[3,  2401] loss: 0.074\n",
            "[3,  2601] loss: 0.071\n",
            "[3,  2801] loss: 0.077\n",
            "[3,  3001] loss: 0.076\n",
            "[3,  3201] loss: 0.075\n",
            "[3,  3401] loss: 0.075\n",
            "[3,  3601] loss: 0.069\n",
            "[3,  3801] loss: 0.075\n",
            "[3,  4001] loss: 0.071\n",
            "[3,  4201] loss: 0.073\n",
            "[3,  4401] loss: 0.086\n",
            "[3,  4601] loss: 0.079\n",
            "[3,  4801] loss: 0.069\n",
            "[3,  5001] loss: 0.076\n",
            "[3,  5201] loss: 0.069\n",
            "[3,  5401] loss: 0.077\n",
            "[3,  5601] loss: 0.077\n",
            "[3,  5801] loss: 0.069\n",
            "[3,  6001] loss: 0.084\n",
            "[3,  6201] loss: 0.079\n",
            "[3,  6401] loss: 0.075\n",
            "[3,  6601] loss: 0.077\n",
            "[3,  6801] loss: 0.081\n",
            "[3,  7001] loss: 0.077\n",
            "[3,  7201] loss: 0.079\n",
            "[3,  7401] loss: 0.075\n",
            "[3,  7601] loss: 0.077\n",
            "[3,  7801] loss: 0.076\n",
            "[3,  8001] loss: 0.079\n",
            "[3,  8201] loss: 0.070\n",
            "[3,  8401] loss: 0.076\n",
            "[3,  8601] loss: 0.075\n",
            "[3,  8801] loss: 0.083\n",
            "[3,  9001] loss: 0.081\n",
            "[3,  9201] loss: 0.082\n",
            "[3,  9401] loss: 0.080\n",
            "[3,  9601] loss: 0.073\n",
            "[3,  9801] loss: 0.080\n",
            "[3, 10001] loss: 0.085\n",
            "[3, 10201] loss: 0.081\n",
            "[3, 10401] loss: 0.079\n",
            "[3, 10601] loss: 0.080\n",
            "[3, 10801] loss: 0.078\n",
            "[3, 11001] loss: 0.084\n",
            "[3, 11201] loss: 0.081\n",
            "[3, 11401] loss: 0.081\n",
            "[3, 11601] loss: 0.079\n",
            "[3, 11801] loss: 0.080\n",
            "[3, 12001] loss: 0.077\n",
            "[3, 12201] loss: 0.080\n",
            "[3, 12401] loss: 0.082\n",
            "[4,     1] loss: 0.000\n",
            "[4,   201] loss: 0.065\n",
            "[4,   401] loss: 0.066\n",
            "[4,   601] loss: 0.063\n",
            "[4,   801] loss: 0.068\n",
            "[4,  1001] loss: 0.067\n",
            "[4,  1201] loss: 0.071\n",
            "[4,  1401] loss: 0.071\n",
            "[4,  1601] loss: 0.068\n",
            "[4,  1801] loss: 0.068\n",
            "[4,  2001] loss: 0.077\n",
            "[4,  2201] loss: 0.067\n",
            "[4,  2401] loss: 0.072\n",
            "[4,  2601] loss: 0.064\n",
            "[4,  2801] loss: 0.073\n",
            "[4,  3001] loss: 0.073\n",
            "[4,  3201] loss: 0.060\n",
            "[4,  3401] loss: 0.067\n",
            "[4,  3601] loss: 0.069\n",
            "[4,  3801] loss: 0.069\n",
            "[4,  4001] loss: 0.074\n",
            "[4,  4201] loss: 0.073\n",
            "[4,  4401] loss: 0.072\n",
            "[4,  4601] loss: 0.077\n",
            "[4,  4801] loss: 0.073\n",
            "[4,  5001] loss: 0.067\n",
            "[4,  5201] loss: 0.068\n",
            "[4,  5401] loss: 0.074\n",
            "[4,  5601] loss: 0.071\n",
            "[4,  5801] loss: 0.074\n",
            "[4,  6001] loss: 0.069\n",
            "[4,  6201] loss: 0.078\n",
            "[4,  6401] loss: 0.074\n",
            "[4,  6601] loss: 0.072\n",
            "[4,  6801] loss: 0.065\n",
            "[4,  7001] loss: 0.069\n",
            "[4,  7201] loss: 0.069\n",
            "[4,  7401] loss: 0.078\n",
            "[4,  7601] loss: 0.076\n",
            "[4,  7801] loss: 0.076\n",
            "[4,  8001] loss: 0.075\n",
            "[4,  8201] loss: 0.072\n",
            "[4,  8401] loss: 0.074\n",
            "[4,  8601] loss: 0.074\n",
            "[4,  8801] loss: 0.078\n",
            "[4,  9001] loss: 0.080\n",
            "[4,  9201] loss: 0.076\n",
            "[4,  9401] loss: 0.075\n",
            "[4,  9601] loss: 0.075\n",
            "[4,  9801] loss: 0.066\n",
            "[4, 10001] loss: 0.072\n",
            "[4, 10201] loss: 0.070\n",
            "[4, 10401] loss: 0.072\n",
            "[4, 10601] loss: 0.074\n",
            "[4, 10801] loss: 0.073\n",
            "[4, 11001] loss: 0.076\n",
            "[4, 11201] loss: 0.076\n",
            "[4, 11401] loss: 0.072\n",
            "[4, 11601] loss: 0.082\n",
            "[4, 11801] loss: 0.067\n",
            "[4, 12001] loss: 0.074\n",
            "[4, 12201] loss: 0.069\n",
            "[4, 12401] loss: 0.080\n",
            "[5,     1] loss: 0.000\n",
            "[5,   201] loss: 0.062\n",
            "[5,   401] loss: 0.060\n",
            "[5,   601] loss: 0.060\n",
            "[5,   801] loss: 0.058\n",
            "[5,  1001] loss: 0.063\n",
            "[5,  1201] loss: 0.069\n",
            "[5,  1401] loss: 0.058\n",
            "[5,  1601] loss: 0.063\n",
            "[5,  1801] loss: 0.061\n",
            "[5,  2001] loss: 0.063\n",
            "[5,  2201] loss: 0.067\n",
            "[5,  2401] loss: 0.061\n",
            "[5,  2601] loss: 0.063\n",
            "[5,  2801] loss: 0.057\n",
            "[5,  3001] loss: 0.065\n",
            "[5,  3201] loss: 0.065\n",
            "[5,  3401] loss: 0.066\n",
            "[5,  3601] loss: 0.066\n",
            "[5,  3801] loss: 0.064\n",
            "[5,  4001] loss: 0.064\n",
            "[5,  4201] loss: 0.067\n",
            "[5,  4401] loss: 0.072\n",
            "[5,  4601] loss: 0.064\n",
            "[5,  4801] loss: 0.072\n",
            "[5,  5001] loss: 0.071\n",
            "[5,  5201] loss: 0.065\n",
            "[5,  5401] loss: 0.062\n",
            "[5,  5601] loss: 0.062\n",
            "[5,  5801] loss: 0.072\n",
            "[5,  6001] loss: 0.065\n",
            "[5,  6201] loss: 0.066\n",
            "[5,  6401] loss: 0.064\n",
            "[5,  6601] loss: 0.066\n",
            "[5,  6801] loss: 0.067\n",
            "[5,  7001] loss: 0.072\n",
            "[5,  7201] loss: 0.063\n",
            "[5,  7401] loss: 0.075\n",
            "[5,  7601] loss: 0.072\n",
            "[5,  7801] loss: 0.069\n",
            "[5,  8001] loss: 0.072\n",
            "[5,  8201] loss: 0.075\n",
            "[5,  8401] loss: 0.070\n",
            "[5,  8601] loss: 0.072\n",
            "[5,  8801] loss: 0.073\n",
            "[5,  9001] loss: 0.072\n",
            "[5,  9201] loss: 0.068\n",
            "[5,  9401] loss: 0.066\n",
            "[5,  9601] loss: 0.072\n",
            "[5,  9801] loss: 0.069\n",
            "[5, 10001] loss: 0.072\n",
            "[5, 10201] loss: 0.070\n",
            "[5, 10401] loss: 0.069\n",
            "[5, 10601] loss: 0.069\n",
            "[5, 10801] loss: 0.073\n",
            "[5, 11001] loss: 0.069\n",
            "[5, 11201] loss: 0.068\n",
            "[5, 11401] loss: 0.065\n",
            "[5, 11601] loss: 0.068\n",
            "[5, 11801] loss: 0.079\n",
            "[5, 12001] loss: 0.072\n",
            "[5, 12201] loss: 0.074\n",
            "[5, 12401] loss: 0.067\n",
            "Finished Training\n"
          ]
        }
      ]
    },
    {
      "cell_type": "markdown",
      "metadata": {
        "id": "fjoDjOYIJoeC"
      },
      "source": [
        "5. Testando a rede em dados de teste:\n",
        "^^^^^^^^^^^^^^^^^^^^^^^^^^^^^^^^^^^^\n",
        "\n",
        "Treinamos a rede por 2 épocas. Temos que checar se ela aprendeu:\n",
        "\n"
      ]
    },
    {
      "cell_type": "code",
      "metadata": {
        "id": "sDJlPPmzJoeD",
        "colab": {
          "base_uri": "https://localhost:8080/",
          "height": 211
        },
        "outputId": "73479134-2251-4f7b-8b7c-ef14e3985b6d"
      },
      "source": [
        "dataiter = iter(testloader)\n",
        "images, labels = next(dataiter)\n",
        "\n",
        "# print images\n",
        "imshow(torchvision.utils.make_grid(images))\n",
        "print('GroundTruth: ', ' '.join('%5s' % classes[labels[j]] for j in range(4)))"
      ],
      "execution_count": 14,
      "outputs": [
        {
          "output_type": "stream",
          "name": "stdout",
          "text": [
            "GroundTruth:   bird  frog   car horse\n"
          ]
        },
        {
          "output_type": "display_data",
          "data": {
            "text/plain": [
              "<Figure size 640x480 with 1 Axes>"
            ],
            "image/png": "[encoded data removed]"
          },
          "metadata": {}
        }
      ]
    },
    {
      "cell_type": "markdown",
      "metadata": {
        "id": "97HlB9duJoeG"
      },
      "source": [
        "\n",
        "Ok, agora vamos ver o que a rede neural pensa que esses exemplos acima são:"
      ]
    },
    {
      "cell_type": "code",
      "metadata": {
        "id": "7zz1Jyg2JoeH"
      },
      "source": [
        "outputs = net(images)"
      ],
      "execution_count": 15,
      "outputs": []
    },
    {
      "cell_type": "markdown",
      "metadata": {
        "id": "lyyPM5nQJoeJ"
      },
      "source": [
        "As saídas são energias para as 10 classes. Quanto maior a energia de uma classe, mais a rede pensa que a imagem é da classe específica. Então, vamos obter o índice da energia mais alta:"
      ]
    },
    {
      "cell_type": "code",
      "metadata": {
        "id": "pmBMtVzYJoeK",
        "colab": {
          "base_uri": "https://localhost:8080/"
        },
        "outputId": "6d5959c7-c7a5-4f41-c637-3dbaf51374ad"
      },
      "source": [
        "_, predicted = torch.max(outputs, 1)\n",
        "\n",
        "print('Predicted: ', ' '.join('%5s' % classes[predicted[j]]\n",
        "                              for j in range(4)))"
      ],
      "execution_count": 16,
      "outputs": [
        {
          "output_type": "stream",
          "name": "stdout",
          "text": [
            "Predicted:   bird   cat   car horse\n"
          ]
        }
      ]
    }
  ]
}